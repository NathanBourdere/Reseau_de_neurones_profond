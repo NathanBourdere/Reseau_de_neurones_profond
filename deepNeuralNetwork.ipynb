{
 "cells": [
  {
   "cell_type": "markdown",
   "metadata": {},
   "source": [
    "Création d'un réseau de neurones affines à partir de python seulement (et la fonction dot de numpy pour les calculs matriciels)"
   ]
  },
  {
   "cell_type": "markdown",
   "metadata": {},
   "source": [
    "Imports"
   ]
  },
  {
   "cell_type": "code",
   "execution_count": 27,
   "metadata": {},
   "outputs": [],
   "source": [
    "import numpy as np\n",
    "import matplotlib.pyplot as plt\n",
    "from sklearn.datasets import make_blobs, make_circles\n",
    "from sklearn.metrics import accuracy_score, log_loss\n",
    "from tqdm import tqdm"
   ]
  },
  {
   "cell_type": "markdown",
   "metadata": {},
   "source": [
    "Initialisation des poids W et des biais par une valeur aléatoire"
   ]
  },
  {
   "cell_type": "code",
   "execution_count": 28,
   "metadata": {},
   "outputs": [],
   "source": [
    "def init(dimensions):\n",
    "\n",
    "    C = len(dimensions)\n",
    "    params = dict()\n",
    "\n",
    "    for couche in range(1,C):\n",
    "        params['W'+str(couche)] = np.random.randn(dimensions[couche],dimensions[couche - 1])\n",
    "        params['b'+str(couche)] = np.random.randn(dimensions[couche],1)\n",
    "    \n",
    "    return params"
   ]
  },
  {
   "cell_type": "markdown",
   "metadata": {},
   "source": [
    "Forward Propagation, activations de tout les neurones, un par un, couche par couche, et leurs résultats dépendant des résultats des couches précédentes.\n",
    "\n",
    "Formule : $ Z^{[c]} = W^{[c]}A^{[c-1]} + b^{[c]} $\n",
    "$ A^{[c]} = \\sigma(Z^{[c]}) $"
   ]
  },
  {
   "cell_type": "code",
   "execution_count": 29,
   "metadata": {},
   "outputs": [],
   "source": [
    "def forward_propagation(X,parametres):\n",
    "    activations = {'A0': X}\n",
    "    C = len(parametres) // 2\n",
    "    for c in range(1, C + 1):\n",
    "        Z = parametres['W' + str(c)].dot(activations['A' + str(c - 1)]) + parametres['b' + str(c)]\n",
    "        activations['A' + str(c)] = 1 / (1 + np.exp(-Z))\n",
    "\n",
    "    return activations"
   ]
  },
  {
   "cell_type": "markdown",
   "metadata": {},
   "source": [
    "Back Propagation, même principe que la forward propagation, mais en arrière, c'est ce qui va permettre d'entraîner le réseau de neurones\n",
    "\n",
    "Formule : $ dZ^{[c]} = A^{[c]} - y $\n",
    "$ dW^{[c]} = \\frac{1}{m} dZ^{[c]} A^{[c-1]T} $\n",
    "$ db^{[c]} = \\frac{1}{m} \\sum dZ^{[c]} $"
   ]
  },
  {
   "cell_type": "code",
   "execution_count": 30,
   "metadata": {},
   "outputs": [],
   "source": [
    "def backpropagation(X,y,activations,params):\n",
    "    m = y.shape[1]\n",
    "    C = len(params) // 2\n",
    "\n",
    "    dZ = activations['A' + str(C)] - y\n",
    "    gradients = {}\n",
    "\n",
    "    for c in reversed(range(1, C + 1)):\n",
    "        gradients['dW' + str(c)] = 1/m * np.dot(dZ, activations['A' + str(c - 1)].T)\n",
    "        gradients['db' + str(c)] = 1/m * np.sum(dZ, axis=1, keepdims=True)\n",
    "        if c > 1:\n",
    "            dZ = np.dot(params['W' + str(c)].T, dZ) * activations['A' + str(c - 1)] * (1 - activations['A' + str(c - 1)])\n",
    "\n",
    "    return gradients"
   ]
  },
  {
   "cell_type": "markdown",
   "metadata": {},
   "source": [
    "Mise à jour des poids et des biais, cela est effectué pendant l'entraînement du réseau de neurones, la \"vitesse\" d'apprentissage est régulée selon un pas d'apprentissage ou learning rate"
   ]
  },
  {
   "cell_type": "code",
   "execution_count": 31,
   "metadata": {},
   "outputs": [],
   "source": [
    "def update(gradients, parametres, learning_rate):\n",
    "\n",
    "    C = len(parametres) // 2\n",
    "\n",
    "    for c in range(1, C + 1):\n",
    "        parametres['W' + str(c)] = parametres['W' + str(c)] - learning_rate * gradients['dW' + str(c)]\n",
    "        parametres['b' + str(c)] = parametres['b' + str(c)] - learning_rate * gradients['db' + str(c)]\n",
    "\n",
    "    return parametres"
   ]
  },
  {
   "cell_type": "markdown",
   "metadata": {},
   "source": [
    "Fonction de prédiction d'un résultat lorsqu'on donne au réseau de neurones une donnée d'entrée"
   ]
  },
  {
   "cell_type": "code",
   "execution_count": 32,
   "metadata": {},
   "outputs": [],
   "source": [
    "def predict(X, parametres):\n",
    "  activations = forward_propagation(X, parametres)\n",
    "  C = len(parametres) // 2\n",
    "  Af = activations['A' + str(C)]\n",
    "  return Af >= 0.5"
   ]
  },
  {
   "cell_type": "markdown",
   "metadata": {},
   "source": [
    "Fonction principale d'entraînement du réseau de neurones\n",
    "\n",
    "Log Loss : \n",
    "\n",
    "$$ J(y, \\hat{y}) = - \\frac{1}{m} \\sum_{i=1}^{m} \\left( y_i \\log(\\hat{y}_i) + (1 - y_i) \\log(1 - \\hat{y}_i) \\right) $$"
   ]
  },
  {
   "cell_type": "code",
   "execution_count": 33,
   "metadata": {},
   "outputs": [],
   "source": [
    "def deep_neural_network(X,y,hidden_layers=(16,16,16),learning_rate=0.1,epoches=3000):\n",
    "    np.random.seed(0)\n",
    "    dimensions = list(hidden_layers)\n",
    "    dimensions.insert(0,X.shape[0])\n",
    "    dimensions.append(y.shape[0])\n",
    "    parametres = init(dimensions)\n",
    "    train_loss = []\n",
    "    train_acc = []\n",
    "\n",
    "    for i in tqdm(range(epoches)):\n",
    "        activations = forward_propagation(X,parametres)\n",
    "        gradients = backpropagation(X,y,activations,parametres)\n",
    "        parametres = update(gradients,parametres, learning_rate)\n",
    "\n",
    "        if i % 10 == 0:\n",
    "            C = len(parametres) // 2\n",
    "            train_loss.append(log_loss(y,activations['A'+str(C)]))\n",
    "            y_pred = predict(X,parametres)\n",
    "            acc = accuracy_score(y.flatten(),y_pred.flatten())\n",
    "            train_acc.append(acc)\n",
    "\n",
    "    #fig, ax = plt.subplots(nrows=1, ncols=3, figsize=(18,4))\n",
    "    plt.figure(figsize=(12, 4))\n",
    "    plt.subplot(1, 2, 1)\n",
    "    plt.plot(train_loss, label='train loss')\n",
    "    plt.legend()\n",
    "    plt.subplot(1, 2, 2)\n",
    "    plt.plot(train_acc, label='train acc')\n",
    "    plt.legend()\n",
    "    plt.show()\n",
    "    return parametres"
   ]
  },
  {
   "cell_type": "markdown",
   "metadata": {},
   "source": [
    "Test du réseau de neurones sur un dataset classique"
   ]
  },
  {
   "cell_type": "code",
   "execution_count": 34,
   "metadata": {},
   "outputs": [
    {
     "name": "stdout",
     "output_type": "stream",
     "text": [
      "dimensions de X: (2, 100)\n",
      "dimensions de y: (1, 100)\n"
     ]
    },
    {
     "data": {
      "image/png": "[encoded data removed]",
      "text/plain": [
       "<Figure size 640x480 with 1 Axes>"
      ]
     },
     "metadata": {},
     "output_type": "display_data"
    },
    {
     "name": "stderr",
     "output_type": "stream",
     "text": [
      " 24%|██▍       | 241/1000 [00:00<00:00, 2364.06it/s]"
     ]
    },
    {
     "name": "stderr",
     "output_type": "stream",
     "text": [
      "100%|██████████| 1000/1000 [00:00<00:00, 2604.57it/s]\n"
     ]
    },
    {
     "data": {
      "image/png": "[encoded data removed]",
      "text/plain": [
       "<Figure size 1200x400 with 2 Axes>"
      ]
     },
     "metadata": {},
     "output_type": "display_data"
    },
    {
     "data": {
      "text/plain": [
       "{'W1': array([[ 2.03632076,  0.52116737],\n",
       "        [ 1.62824275,  3.54088269],\n",
       "        [ 1.83412786, -1.09756493],\n",
       "        [ 1.12685649, -0.37317282],\n",
       "        [-0.05045605,  0.68641787],\n",
       "        [ 0.06095657,  2.35920707],\n",
       "        [ 0.36368701,  0.60293379],\n",
       "        [ 0.48560233,  0.32637325],\n",
       "        [ 1.84797373, -0.31145423],\n",
       "        [ 0.4103085 , -1.34157732],\n",
       "        [-3.60271275,  0.63233457],\n",
       "        [ 1.61881172, -1.11101895],\n",
       "        [ 2.26015986, -1.76943294],\n",
       "        [-0.31706725, -0.27799426],\n",
       "        [ 1.64089691,  1.39905172],\n",
       "        [ 0.22739164,  0.08020622]]),\n",
       " 'b1': array([[-1.31064263],\n",
       "        [-2.26471796],\n",
       "        [-0.7341089 ],\n",
       "        [ 0.23542921],\n",
       "        [ 1.05687223],\n",
       "        [ 1.27033211],\n",
       "        [-0.24606902],\n",
       "        [-0.33361378],\n",
       "        [-1.22729885],\n",
       "        [-1.4751863 ],\n",
       "        [-1.82344415],\n",
       "        [ 1.76352287],\n",
       "        [-0.7492215 ],\n",
       "        [-0.66469733],\n",
       "        [-1.28800179],\n",
       "        [ 0.73825475]]),\n",
       " 'W2': array([[-1.61754721, -0.20976465, -0.93064668,  0.3803847 , -0.47632583,\n",
       "         -1.1144044 , -0.01905742,  0.44166121,  0.05174616,  0.28066082,\n",
       "         -0.59450546, -0.35608725, -0.71993708, -0.35489622, -0.80593716,\n",
       "         -1.70465144],\n",
       "        [ 0.20115646, -0.56450938, -1.51927808,  0.60405963, -0.84188761,\n",
       "          0.16815284,  0.79630255,  0.18784473,  1.18419885, -1.21408463,\n",
       "          0.10011541, -0.48621922, -0.75777422, -0.54663383, -0.34378979,\n",
       "          0.13098813],\n",
       "        [-1.33159812,  0.82284463,  0.16252038, -1.73650067,  1.37077279,\n",
       "          1.94224742,  1.09152212, -0.26749787, -1.27893473,  0.87979498,\n",
       "         -0.49779062,  0.9930901 , -0.15220854,  0.87336136,  0.26533266,\n",
       "          0.5597058 ],\n",
       "        [ 0.13079712,  2.15256918,  0.27458321,  0.22843092,  1.45298053,\n",
       "         -2.12535642, -1.45987575,  0.76886412, -1.02866421,  2.08661533,\n",
       "         -0.19766984, -1.16842213,  2.15223073,  1.35606853,  1.96602795,\n",
       "          0.58658406],\n",
       "        [-0.85463975,  1.90985433, -0.24306907,  0.8155221 ,  0.95295247,\n",
       "         -0.16988743,  0.61756857,  0.92498501,  0.38994887, -1.08167947,\n",
       "          0.30927272,  1.34352905, -0.66291163, -0.14069546, -0.43622593,\n",
       "          1.85689558],\n",
       "        [ 0.75542633,  0.7610539 , -0.81344106,  0.45323253, -0.65339853,\n",
       "         -0.03185935, -0.63874229,  0.67472387,  0.60885981, -0.19680834,\n",
       "          0.8431934 , -1.24005843, -1.53345935,  0.44869619,  0.32782565,\n",
       "          0.63830039],\n",
       "        [ 2.36547781,  0.92952569, -0.91535199,  1.07606683, -1.38577702,\n",
       "         -0.56515927, -0.11088385,  1.67237424, -0.74921012, -0.81793522,\n",
       "         -0.08576054, -0.73085237,  1.131992  , -1.10363284, -1.17974867,\n",
       "         -0.49559574],\n",
       "        [-0.31694831,  2.67882854,  1.0387805 , -0.21641356, -1.57603386,\n",
       "         -0.00738006, -1.19592467, -1.75367158,  1.36190564,  0.5069769 ,\n",
       "          1.95420112, -0.27799956,  1.04661464, -0.72007155, -0.77888709,\n",
       "          0.39528024],\n",
       "        [-0.79583594, -0.68575728, -0.46060295,  0.01950536, -0.35293392,\n",
       "         -1.35327563, -0.63780583, -2.21839234,  0.62686045, -1.61424072,\n",
       "         -1.12776785,  0.04897453, -0.74965995,  1.53698796, -1.28250599,\n",
       "          0.26750163],\n",
       "        [-0.30668438, -1.61346794,  0.21862013, -0.32213257,  0.66678246,\n",
       "          0.97239212,  2.07191094,  1.24878853, -0.62734834, -0.43446738,\n",
       "          0.74570307,  0.54067958,  0.27259817, -1.71401798, -0.29708977,\n",
       "         -0.87011739],\n",
       "        [ 0.2514857 , -0.08175755,  0.84871747,  0.28416013,  0.81213511,\n",
       "         -0.42725039, -0.95354598, -0.41024836, -0.05922913,  0.35743417,\n",
       "          2.32669023, -0.05866203, -1.03101295, -0.34117114, -0.47638063,\n",
       "          0.49156368],\n",
       "        [-1.48523138, -0.58367528,  0.53442075,  0.73490215, -0.33014422,\n",
       "          0.2614248 , -1.18689041, -0.26517109, -0.40270204,  0.47419998,\n",
       "         -2.24865273,  1.48354085,  1.86426211, -1.95150755,  0.26923486,\n",
       "          0.975222  ],\n",
       "        [-0.62939516, -0.34523322, -0.10754182, -0.33407549, -0.3681527 ,\n",
       "         -1.81490576,  1.11830569,  1.04262013, -0.79333911, -1.42909322,\n",
       "          0.63645271, -0.64761889,  0.18806513, -0.32485049,  0.69312141,\n",
       "          0.649787  ],\n",
       "        [-0.71841157, -1.38317276, -1.58275999,  0.60978045, -1.20197361,\n",
       "         -0.50531904, -0.59680282, -0.05382182, -1.93260498,  0.17938703,\n",
       "          0.48795401,  0.07761162, -0.31326776,  0.08672003,  0.40576622,\n",
       "         -2.78246586],\n",
       "        [ 1.94681646,  0.38642894, -0.66435342, -0.41642497,  0.45342938,\n",
       "         -0.16288701, -2.05271833,  2.0426079 , -0.11773955,  1.01522807,\n",
       "         -0.69580658,  1.49437013,  0.27671371,  0.59157839, -1.0550676 ,\n",
       "          1.17689011],\n",
       "        [ 0.75288281,  1.31768683, -0.51839619, -0.42395995,  2.29971548,\n",
       "         -1.10791171, -0.11573135,  1.15186548,  0.17282095,  0.6314627 ,\n",
       "         -0.43307943,  0.41158946, -1.17924619,  1.67279208, -0.08868082,\n",
       "         -0.66515433]]),\n",
       " 'b2': array([[ 0.69284733],\n",
       "        [-0.36360974],\n",
       "        [-1.57395603],\n",
       "        [-1.77722013],\n",
       "        [ 0.71109136],\n",
       "        [-0.14256614],\n",
       "        [-0.21048262],\n",
       "        [ 0.75397912],\n",
       "        [-1.13375515],\n",
       "        [-0.95223773],\n",
       "        [-0.36991925],\n",
       "        [ 0.46123521],\n",
       "        [-0.08925623],\n",
       "        [-0.30873892],\n",
       "        [-0.11135171],\n",
       "        [-0.08475206]]),\n",
       " 'W3': array([[-7.10704321e-01, -7.91430872e-01,  3.41206563e-01,\n",
       "         -8.41094392e-01, -1.07266189e+00, -2.54457708e-01,\n",
       "         -1.36469762e-01,  2.34301787e+00, -7.02757179e-01,\n",
       "          9.96831773e-01,  8.41520625e-01, -1.18922221e+00,\n",
       "          8.03385281e-01, -1.17855529e+00, -2.59270002e+00,\n",
       "          6.78523700e-01],\n",
       "        [-1.75580434e+00,  4.33805087e-01, -7.41415104e-01,\n",
       "          1.77209223e+00,  1.05366305e+00, -4.53775855e-01,\n",
       "         -6.35830273e-01, -1.12458819e+00, -4.40915604e-01,\n",
       "         -3.27785501e-01, -3.69310457e-01,  1.59386970e-01,\n",
       "          5.79028345e-01,  3.51040041e-01, -7.73575530e-01,\n",
       "         -1.45698383e+00],\n",
       "        [ 1.35921248e+00, -6.85630510e-01, -6.17318250e-01,\n",
       "         -5.60273726e-01, -1.82827982e+00, -4.87635389e-01,\n",
       "         -4.93037763e-01,  5.67817724e-01,  6.97051057e-01,\n",
       "          3.02689611e-02,  9.04612613e-01,  3.73206807e-01,\n",
       "         -2.54093406e-02,  1.56963389e-01, -1.72849577e-01,\n",
       "         -3.79860651e-01],\n",
       "        [-2.66397118e-01, -1.09397628e+00,  4.50647853e-01,\n",
       "         -1.08943143e+00,  9.73603233e-01, -2.36941085e-01,\n",
       "          2.22460136e-02,  4.14752926e-01,  6.43761265e-01,\n",
       "         -1.43098565e+00, -1.70661166e-01,  1.01240137e+00,\n",
       "         -1.69125686e+00,  3.83979517e-01, -2.13115135e+00,\n",
       "         -9.13095535e-01],\n",
       "        [ 4.02988243e-02, -1.66031044e+00, -1.05017789e+00,\n",
       "         -1.44815899e+00,  1.59752624e+00,  1.85071334e-01,\n",
       "          5.76869562e-01, -1.86250890e-01, -3.53491145e-01,\n",
       "         -1.67579281e+00, -2.82634909e-01, -8.42431907e-01,\n",
       "          8.63012658e-01,  1.14471793e+00,  1.41192528e+00,\n",
       "          8.18501095e-01],\n",
       "        [-5.97358966e-01, -1.09802624e+00,  8.51604836e-01,\n",
       "          2.87018798e-01, -1.70275179e+00,  3.53925110e-01,\n",
       "          7.95426009e-01,  2.85540835e-03, -1.84608888e-01,\n",
       "         -7.36207004e-01, -1.42940939e+00,  8.83433993e-01,\n",
       "         -3.07678026e-01, -2.35161889e-01,  1.79500572e+00,\n",
       "          7.36156239e-01],\n",
       "        [ 3.97660754e-01,  1.80826966e-01,  1.52267839e+00,\n",
       "          2.00635990e+00,  1.03255324e+00,  8.13233641e-01,\n",
       "         -1.98276959e+00,  5.05260204e-01, -1.25302686e-01,\n",
       "          4.76487305e-02,  1.21550643e+00, -2.94759071e+00,\n",
       "         -4.74123243e-01,  2.93173970e-01, -4.17525597e-01,\n",
       "         -1.28925158e+00],\n",
       "        [ 8.68429649e-01,  2.77935865e-01, -9.50763987e-01,\n",
       "          2.95920896e-01,  8.36937279e-01, -4.34891052e-03,\n",
       "          7.86308032e-01,  5.42078785e-02, -3.95085278e-01,\n",
       "         -1.14285666e+00, -8.95625121e-02,  2.21105708e-01,\n",
       "          8.73312718e-01, -1.16724066e-01,  4.73422325e-01,\n",
       "         -9.53081721e-01],\n",
       "        [-7.45423631e-01, -1.39378520e-01, -1.23585155e+00,\n",
       "          1.80204524e+00,  5.38904266e-01,  6.01832498e-01,\n",
       "          6.94734093e-01,  3.00133094e+00, -4.61730137e-01,\n",
       "         -2.37663127e+00,  5.80883988e-01, -4.81645554e-01,\n",
       "         -3.69463760e-01, -9.40947184e-01, -4.20472601e-01,\n",
       "          2.75149990e-01],\n",
       "        [-5.10199201e-01,  2.44090241e+00, -6.85089048e-01,\n",
       "         -8.75740876e-01, -2.06648315e+00,  2.14863921e-01,\n",
       "         -2.01720561e+00, -6.61052590e-01, -2.76826327e-01,\n",
       "         -4.74227055e-01,  1.72219706e+00,  1.31595741e+00,\n",
       "          1.30493548e+00, -8.94341799e-01,  1.35955807e+00,\n",
       "          6.62684695e-01],\n",
       "        [ 7.69894296e-01,  1.02825196e+00, -9.70998129e-01,\n",
       "         -4.72257397e-01,  7.97723891e-01, -2.65596056e+00,\n",
       "          1.50743238e+00,  5.15641897e-01, -4.66606558e-02,\n",
       "          1.63742274e-01, -1.05214099e+00, -3.89604625e-01,\n",
       "          1.09259059e+00,  1.29899684e+00,  2.63294733e+00,\n",
       "         -1.20561542e-01],\n",
       "        [-6.57715539e-01, -4.81734577e-01, -7.73672699e-01,\n",
       "         -2.06641968e-01,  5.73089963e-01, -6.57413539e-02,\n",
       "          1.03600931e+00, -3.69998302e-01, -3.45819395e-01,\n",
       "         -3.73943474e-01, -1.61225617e+00, -1.32844857e+00,\n",
       "         -1.18048268e+00,  1.29311767e+00,  1.08630049e+00,\n",
       "          1.52179889e+00],\n",
       "        [-1.31989435e+00, -2.02079093e+00, -1.01107079e+00,\n",
       "          7.88736223e-01,  3.52834489e-01,  1.22418708e+00,\n",
       "          5.35184526e-01,  2.34293072e+00, -2.22035065e-01,\n",
       "         -1.23115700e+00, -1.54608176e+00, -1.27151272e+00,\n",
       "          3.04001633e-01, -8.65396490e-01,  7.68629506e-01,\n",
       "          1.31497934e+00],\n",
       "        [-2.36954191e+00,  8.61760309e-01, -2.26413269e+00,\n",
       "          4.17722234e-01,  1.20819938e+00,  7.18238669e-02,\n",
       "         -1.27254081e+00, -5.68490746e-01, -2.61809465e-01,\n",
       "         -2.05067421e-01, -2.02370930e-01, -1.33931511e-01,\n",
       "          2.14559271e-01, -1.20762004e+00, -2.59298546e-01,\n",
       "          1.50694700e+00],\n",
       "        [-3.93261411e-01, -4.03190070e-01,  1.31255274e+00,\n",
       "         -2.88719153e+00,  1.29465602e+00, -6.99893663e-01,\n",
       "          7.70774901e-02, -2.27891527e-01,  9.40524460e-01,\n",
       "         -6.24522967e-02, -7.43163714e-01,  1.56875078e+00,\n",
       "         -2.39812172e+00,  7.41865265e-03, -1.22243882e+00,\n",
       "         -6.76044175e-01],\n",
       "        [ 2.04600096e+00,  1.35414081e-02, -1.86543201e-02,\n",
       "         -1.77598660e+00, -8.88602038e-01,  4.59381456e-01,\n",
       "          3.54369412e-01,  8.77933209e-01,  1.32053143e-02,\n",
       "          3.30051160e-01,  7.64670127e-01, -2.41690602e+00,\n",
       "          1.42219680e-01,  8.05324062e-01,  3.46952407e-01,\n",
       "         -4.39204172e-01]]),\n",
       " 'b3': array([[-0.71898022],\n",
       "        [-1.12976237],\n",
       "        [-0.11853211],\n",
       "        [ 1.26268394],\n",
       "        [-2.00192013],\n",
       "        [-0.5951504 ],\n",
       "        [-1.03037167],\n",
       "        [ 0.79957279],\n",
       "        [-0.45708939],\n",
       "        [-0.25093695],\n",
       "        [-0.2825704 ],\n",
       "        [ 0.63254003],\n",
       "        [-0.52460053],\n",
       "        [-3.06253065],\n",
       "        [ 0.65002105],\n",
       "        [ 0.28266522]]),\n",
       " 'W4': array([[-0.54495023, -1.08055462,  0.36908236,  0.70554899, -0.33884524,\n",
       "          0.33944071, -1.70732555, -0.06669615, -3.44869893,  1.03674124,\n",
       "          0.22639235,  0.56320051, -2.3896535 , -0.56130995,  1.98987547,\n",
       "         -1.97338435]]),\n",
       " 'b4': array([[1.31498921]])}"
      ]
     },
     "execution_count": 34,
     "metadata": {},
     "output_type": "execute_result"
    }
   ],
   "source": [
    "X, y = make_circles(n_samples=100, noise=0.1, factor=0.3, random_state=0)\n",
    "X = X.T\n",
    "y = y.reshape((1, y.shape[0]))\n",
    "\n",
    "print('dimensions de X:', X.shape)\n",
    "print('dimensions de y:', y.shape)\n",
    "\n",
    "plt.scatter(X[0, :], X[1, :], c=y, cmap='summer')\n",
    "plt.show()\n",
    "\n",
    "deep_neural_network(X, y, hidden_layers = (16, 16, 16), learning_rate = 0.1, epoches=1000)\n",
    "# on retrouve les paramètres du réseau entraîné en sortie"
   ]
  }
 ],
 "metadata": {
  "kernelspec": {
   "display_name": "Python 3",
   "language": "python",
   "name": "python3"
  },
  "language_info": {
   "codemirror_mode": {
    "name": "ipython",
    "version": 3
   },
   "file_extension": ".py",
   "mimetype": "text/x-python",
   "name": "python",
   "nbconvert_exporter": "python",
   "pygments_lexer": "ipython3",
   "version": "3.11.0"
  }
 },
 "nbformat": 4,
 "nbformat_minor": 2
}
